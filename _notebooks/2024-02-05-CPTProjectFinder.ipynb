{
 "cells": [
  {
   "cell_type": "markdown",
   "metadata": {},
   "source": [
    "---\n",
    "comments: true\n",
    "layout: notebook\n",
    "title: Food Finder\n",
    "description: This is where we showcase our CPT Project!\n",
    "type: tangibles\n",
    "post-image: https://i.ibb.co/p1XDWC3/9238fd1b-480c-432a-92db-686353377030.png\n",
    "courses: { csp: {week: 0} }\n",
    "categories: [C4.1]\n",
    "tags:\n",
    "- APCSP\n",
    "- CODE CODE CODE\n",
    "- CPT Project\n",
    "---\n",
    "<br>"
   ]
  },
  {
   "cell_type": "markdown",
   "metadata": {
    "vscode": {
     "languageId": "html"
    }
   },
   "source": [
    "# Welcome to **'Food Finder'**, your passport to a culinary journey through the vibrant flavors of China, right here in sunny San Diego, California!\n",
    "\n",
    "<br>\n",
    "\n",
    "### Ready to embark on your epicurean adventure?\n",
    "> Click that tantalizing button below to unlock a world of mouthwatering possibilities. Whether you're a connoisseur of Cantonese delights or crave the fiery sensations of Sichuan cuisine, 'Food Finder' has got you covered.\n",
    "\n",
    "### Sign up now or log in with your savory credentials!\n",
    "> Once inside, prepare to be dazzled as you explore the rich tapestry of Chinese culinary traditions. From the sizzling woks of Sichuan to the delicate artistry of Jiangsu, every dish tells a story waiting to be savored.\n",
    "\n",
    "### Don't miss out on the feast of a lifetime!\n",
    "> Join us as we guide you through the bustling streets of San Diego, leading you to hidden gems and beloved favorites alike. 'Food Finder' isn't just an app—it's your personal gateway to gastronomic bliss.\n",
    "\n",
    "## **Let's embark on this savory voyage together!**"
   ]
  }
 ],
 "metadata": {
  "language_info": {
   "name": "python"
  }
 },
 "nbformat": 4,
 "nbformat_minor": 2
}
