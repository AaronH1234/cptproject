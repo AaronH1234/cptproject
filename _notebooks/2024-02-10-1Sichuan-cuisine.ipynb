{
 "cells": [
  {
   "cell_type": "markdown",
   "metadata": {},
   "source": [
    "---\n",
    "comments: true\n",
    "layout: notebook\n",
    "hidden: true\n",
    "title: Sichuan cuisine\n",
    "description: Discription about Sichuan cuisine\n",
    "post-image: https://i.ibb.co/3sJVcZp/image.png\n",
    "type: tangibles\n",
    "courses: { csp: {week: 0} }\n",
    "categories: [C4.1]\n",
    "tags:\n",
    "- APCSP\n",
    "- CODE CODE CODE\n",
    "---"
   ]
  },
  {
   "cell_type": "markdown",
   "metadata": {},
   "source": [
    "## 1. Sichuan cuisine\n",
    "\n",
    "- Sichuan cuisine is mostly found in Sichuan and Chongqing, China\n",
    "\n",
    "- Sichuan's terrain is complex and diverse, and the province can be divided into three parts: basin, plateau and mountain. Most residents in Sichuan live in the basin, and the basin area has high humidity, so the locals need to eat spicy food to ward off the cold.\n",
    "\n",
    "- Feature\n",
    "\n",
    "    - Sichuan cuisine usually uses Sichuan peppercorns, so Sichuan cuisine is usually very numbing to eat.\n",
    "    - Sichuan cuisine usually uses a lot of pepper and chili pepper, so most Sichuan cuisine is spicy.\n",
    "    - Sichuan cuisine is incredibly complex but delicious!!\n",
    "\n",
    "- Representative dishes\n",
    "\n",
    "    - Kung Pao Chicken\n",
    "    - Mapo Tofu\n",
    "    - Spicy hotpot"
   ]
  }
 ],
 "metadata": {
  "language_info": {
   "name": "python"
  }
 },
 "nbformat": 4,
 "nbformat_minor": 2
}
