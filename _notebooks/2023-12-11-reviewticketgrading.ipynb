{
 "cells": [
  {
   "cell_type": "markdown",
   "metadata": {},
   "source": [
    "---\n",
    "comments: true\n",
    "layout: notebook\n",
    "title: Review Ticket \n",
    "description: CPT warmup review ticket \n",
    "type: tangibles\n",
    "author: Ryan, Aaron, Jason\n",
    "post-image: ## yaman\n",
    "courses: { csp: {week: 0} }\n",
    "categories: [C4.1]\n",
    "tags:\n",
    "- CPT WarmUp\n",
    "- APCSP\n",
    "- CODE CODE CODE\n",
    "\n",
    "---"
   ]
  },
  {
   "cell_type": "markdown",
   "metadata": {},
   "source": [
    "# SCORES\n",
    "\n",
    "## TEAM GRADES\n",
    "\n",
    "team 1:\n",
    "\n",
    "team 2:\n",
    "\n",
    "team 3:\n",
    "\n",
    "## INDIVIDUAL GRADES\n",
    "\n",
    "Ryan:\n",
    "\n",
    "Jason:\n",
    "\n",
    "Aaron:"
   ]
  },
  {
   "cell_type": "markdown",
   "metadata": {},
   "source": [
    "# COMMITS TO SHOW\n",
    "\n",
    "Ryan: \n",
    "\n",
    "[Commit 1](https://github.com/rliao569/Tri2Repo/commit/26ae627ee6b5f112c7280cc03e80251cf475eeae)\n",
    "\n",
    "[Commit 2](https://github.com/rliao569/Tri2Repo/commit/dce6043da04d07e9cfedbcd13312b607a91a04cb)\n",
    "\n",
    "Jason:\n",
    "\n",
    "[Commit 1](https://github.com/rliao569/Tri2Repo/commit/8ea65cee8eeb6b32bc836979e18d1e5d7a5c1c0e)\n",
    "\n",
    "[Commit 2](https://github.com/rliao569/Tri2Repo/commit/8b8229449faed2734d4d3c14248ae3629c9f69e6)\n",
    "\n",
    "Aaron: \n",
    "\n",
    "[Commit 1](https://github.com/rliao569/Tri2Repo/commit/0e38e906072b7ca90794ee7cffe69567df34bd70)\n",
    "\n",
    "[Commit 2](https://github.com/rliao569/Tri2Repo/commit/0db6828c698f2bf23a8f653c0e5a4f4079ef7d1f)"
   ]
  }
 ],
 "metadata": {
  "language_info": {
   "name": "python"
  }
 },
 "nbformat": 4,
 "nbformat_minor": 2
}
