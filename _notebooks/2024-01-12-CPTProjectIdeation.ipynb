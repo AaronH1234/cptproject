{
 "cells": [
  {
   "cell_type": "markdown",
   "metadata": {},
   "source": [
    "---\n",
    "comments: true\n",
    "layout: notebook\n",
    "title: CPT Ideation \n",
    "description: checkpoint A\n",
    "type: tangibles\n",
    "author: Ryan, Aaron, Jason\n",
    "post-image: https://i.ibb.co/mym3s1z/Untitled-design-1.png\n",
    "courses: { csp: {week: 0} }\n",
    "categories: [C4.1]\n",
    "tags:\n",
    "- APCSP\n",
    "- CODE CODE CODE\n",
    "---"
   ]
  },
  {
   "cell_type": "markdown",
   "metadata": {},
   "source": [
    "# Main Idea: Chinese Food \n",
    "\n",
    "We all share a common issue in San Diego, and that is trying to find authentic Chinese food. Other websites such as yelp or google do not always help, as some of the reviews are innacurate. That is why in our website, we will have a chinese food informational website based in San Diego and nearby. When you open up our website you will see three main sections:"
   ]
  },
  {
   "cell_type": "markdown",
   "metadata": {},
   "source": [
    "# Section 0: User Login\n",
    "\n",
    "Simple user login that will have a login and a signup page. This will be useful later in section 3. We will complete this by using POST requests specifically for user login, signup, and submitting reviews. The POST request will send form data to our server, effectively allowing user side actions to be saved on the website. \n",
    "\n",
    "![image.png](https://i.ibb.co/jJk5rJF/Screenshot-2024-01-12-09-45-17.png)\n"
   ]
  },
  {
   "cell_type": "markdown",
   "metadata": {},
   "source": [
    "# Section 1: Cuisine Information & Finder \n",
    "\n",
    "Most people do not know that \"Chinese\" cuisine is split into 8 cuisines: Anhui, Guangdong, Fujian, Hunan, Jiangsu, Shandong, Sichuan, Zhejiang. We will make an interactive page like this \n",
    "\n",
    "![image.png](https://i.ibb.co/FgYQ6SP/the-eight-great-traditions-of-chinese-cuisine.jpg)\n",
    "\n",
    "You can hover over each different cuisine, and click on what cuisine you want to learn about or find restaurants for. When clicking on one, it will direct the user to a page giving some brief information on the cuisine including spices and types of foods that are commonly seen in this province of China, and where you can find similar food in San Diego (nearby). "
   ]
  },
  {
   "cell_type": "markdown",
   "metadata": {},
   "source": [
    "# Section 2: User Reviewing and Comments \n",
    "\n",
    "This is where user login is important. Users will be able to leave reviews under restaurants they've been to. This will be helpful, as it will help others discover good Chinese food and they will know what to order when they go there. Again, POST requests will be used to allow users to submit reviews, and GET requests will be used to fetch the list of reviews. For an additional challenge, we can use PUT requests to allow users to edit their reviews."
   ]
  },
  {
   "cell_type": "markdown",
   "metadata": {},
   "source": [
    "### **Aaron Hsu**\n",
    "\n",
    "In this CPT project, I am going to work on the frontend of the user login, then I am going to connect the frontend with the backend. After the user login is finish, we all are going to work on the food chart together, since it's harder. Then we will work on the user review."
   ]
  },
  {
   "cell_type": "markdown",
   "metadata": {},
   "source": [
    "### **Ryan Liao**\n",
    "I will be working on the user login as well as the cuisine information and finder. I plan to get some basic frontend design first, so I can see what I need to do in terms of backend. "
   ]
  },
  {
   "cell_type": "markdown",
   "metadata": {},
   "source": [
    "### **Jason Guan**\n",
    "\n",
    "I will be working on the homepage of this CPT Project. In addition, I will also be helping and supporting Aaron and Ryan on their tasks if they need to. Lastly, deploying a good theme is important since the website's appearance is how pleasure the people browsing the website are."
   ]
  }
 ],
 "metadata": {
  "language_info": {
   "name": "python"
  }
 },
 "nbformat": 4,
 "nbformat_minor": 2
}
