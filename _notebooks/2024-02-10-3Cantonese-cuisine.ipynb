{
 "cells": [
  {
   "cell_type": "markdown",
   "metadata": {},
   "source": [
    "---\n",
    "comments: true\n",
    "layout: notebook\n",
    "title: Cantonese cuisine\n",
    "description: Discription about Cantonese cuisine\n",
    "post-image: https://i.ibb.co/zFxHKTD/OVSB0-OLVvlh-Yvfq-NVt-Z9d-Okq-e-Y5ier-M43-Ak-Ye-Nw-JGE.jpg\n",
    "type: tangibles\n",
    "courses: { csp: {week: 0} }\n",
    "categories: [C4.1]\n",
    "tags:\n",
    "- APCSP\n",
    "- CODE CODE CODE\n",
    "---"
   ]
  },
  {
   "cell_type": "markdown",
   "metadata": {},
   "source": [
    "## 3. Cantonese cuisine\n"
   ]
  }
 ],
 "metadata": {
  "language_info": {
   "name": "python"
  }
 },
 "nbformat": 4,
 "nbformat_minor": 2
}
