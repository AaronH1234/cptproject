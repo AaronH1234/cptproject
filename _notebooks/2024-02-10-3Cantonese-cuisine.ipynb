{
 "cells": [
  {
   "cell_type": "markdown",
   "metadata": {},
   "source": [
    "---\n",
    "comments: true\n",
    "layout: notebook\n",
    "hidden: true\n",
    "title: Cantonese cuisine\n",
    "description: Discription about Cantonese cuisine\n",
    "post-image: https://i.ibb.co/zFxHKTD/OVSB0-OLVvlh-Yvfq-NVt-Z9d-Okq-e-Y5ier-M43-Ak-Ye-Nw-JGE.jpg\n",
    "type: tangibles\n",
    "courses: { csp: {week: 0} }\n",
    "categories: [C4.1]\n",
    "tags:\n",
    "- APCSP\n",
    "- CODE CODE CODE\n",
    "---"
   ]
  },
  {
   "cell_type": "markdown",
   "metadata": {},
   "source": [
    "## 3. Cantonese cuisine\n",
    "- The characteristic of Cantonese cuisine is that it emphasizes the original taste and combination of food, so it only uses a small amount of spices.\n",
    "\n",
    "### Feature\n",
    "\n",
    "- Extensive use of materials\n",
    "- Exquisite selection of ingredients\n",
    "- Exquisite ingredients\n",
    "\n",
    "### Representative dishes\n",
    "\n",
    "- Roasted suckling pig\n",
    "- Blanched chicken\n",
    "- Roast goose\n",
    "\n",
    "### Restaurant\n",
    "\n",
    "- The Noble Chef: 6159 Balboa Ave, San Diego, CA 92111\n",
    "- Eastern Dynasty: 4690 Convoy St #109, San Diego, CA 92111\n",
    "- Taste of Hong Kong: 4428 Convoy St Ste 320 330, San Diego, CA 92111"
   ]
  }
 ],
 "metadata": {
  "language_info": {
   "name": "python"
  }
 },
 "nbformat": 4,
 "nbformat_minor": 2
}
