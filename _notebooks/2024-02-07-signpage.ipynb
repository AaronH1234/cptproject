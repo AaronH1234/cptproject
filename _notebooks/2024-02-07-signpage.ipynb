{
 "cells": [
  {
   "cell_type": "markdown",
   "metadata": {},
   "source": [
    "---\n",
    "comments: true\n",
    "layout: notebook\n",
    "title: Signup Page\n",
    "description: checkpoint A\n",
    "type: tangibles\n",
    "author: Ryan, Aaron, Jason\n",
    "courses: { csp: {week: 0} }\n",
    "categories: [C4.1]\n",
    "tags:\n",
    "- APCSP\n",
    "- CODE CODE CODE\n",
    "---"
   ]
  },
  {
   "cell_type": "markdown",
   "metadata": {},
   "source": [
    "%%HTML\n",
    "<div id=\"signup\">\n",
    "  <p><label>\n",
    "      Name:\n",
    "      <input type=\"text\" name=\"name\" id=\"name\" required>\n",
    "  </label></p>\n",
    "  <p><label>\n",
    "      User ID:\n",
    "      <input type=\"text\" name=\"uid\" id=\"uid\" required>\n",
    "  </label></p>\n",
    "  <p><label>\n",
    "      Password:\n",
    "      <input type=\"password\" name=\"password\" id=\"password\" required>\n",
    "  </label></p>\n",
    "  <p>\n",
    "      <button class=\"button\" type=\"submit\" onclick=\"signup()\" >Sign Up</button>\n",
    "  </p>\n",
    "</div>\n",
    "\n",
    "<script>\n",
    "  function signup() {\n",
    "       var name = document.getElementById('name').value;\n",
    "       var uid = document.getElementById('uid').value;\n",
    "       var password = document.getElementById('password').value;\n",
    "       var requestBody = {\n",
    "           name: name,\n",
    "           uid: uid,\n",
    "           password: password\n",
    "       };\n",
    "       fetch('http://127.0.0.1:8086/api/users/create', { //use your own port\n",
    "           method: 'POST',\n",
    "           headers: {\n",
    "               'Content-Type': 'application/json',\n",
    "           },\n",
    "           body: JSON.stringify(requestBody),\n",
    "       })\n",
    "       .then(response => response.json())\n",
    "       .then(data => {\n",
    "           console.log('Sign Up successful:', data);\n",
    "           window.location.href = \"http://localhost:4100/cptproject/c4.1/2024/02/07/loginpage_IPYNB_2_.html\";\n",
    "       })\n",
    "       .catch(error => {\n",
    "           console.error('Error:', error);\n",
    "       });\n",
    "   }\n",
    "</script>\n"
   ]
  }
 ],
 "metadata": {
  "language_info": {
   "name": "python"
  }
 },
 "nbformat": 4,
 "nbformat_minor": 2
}
