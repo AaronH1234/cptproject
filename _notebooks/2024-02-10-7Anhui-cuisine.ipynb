{
 "cells": [
  {
   "cell_type": "markdown",
   "metadata": {},
   "source": [
    "---\n",
    "comments: true\n",
    "layout: notebook\n",
    "title: Anhui cuisine\n",
    "hidden: true\n",
    "description: Discription about Anhui cuisine\n",
    "post-image: https://i.ibb.co/zPy0BFF/image.png\n",
    "type: tangibles\n",
    "courses: { csp: {week: 0} }\n",
    "categories: [C4.1]\n",
    "tags:\n",
    "- APCSP\n",
    "- CODE CODE CODE\n",
    "---"
   ]
  },
  {
   "cell_type": "markdown",
   "metadata": {},
   "source": [
    "## 7. Anhui cuisine\n",
    "\n",
    "- Hui cuisine is a shining pearl in the treasure house of Chinese food culture. It was originally a local flavor in the mountainous areas of Huizhou.\n",
    "\n",
    "### Feature\n",
    "\n",
    "- Mainly salty and fresh\n",
    "- Pay attention to fire skills\n",
    "- Highlight the original flavor\n",
    "\n",
    "### Representative dishes\n",
    "\n",
    "- Huizhou smelly mandarin fish\n",
    "- Tiger skin tofu\n",
    "- Wenzheng mountain bamboo shoots\n",
    "\n",
    "### Restaurant\n",
    "\n",
    "- Hunan Chinese restaurant: 16719 Bernardo Center Dr, San Diego, CA 92128\n",
    "- Shan Xi Magic Kitchen: 4344 Convoy St, San Diego, CA 92111\n",
    "- Yenchim Garden Restaurant: 13297 Black Mountain Rd #6, San Diego, CA 92129"
   ]
  }
 ],
 "metadata": {
  "language_info": {
   "name": "python"
  }
 },
 "nbformat": 4,
 "nbformat_minor": 2
}
