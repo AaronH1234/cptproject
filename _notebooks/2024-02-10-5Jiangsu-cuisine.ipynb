{
 "cells": [
  {
   "cell_type": "markdown",
   "metadata": {},
   "source": [
    "---\n",
    "comments: true\n",
    "layout: notebook\n",
    "title: Jiangsu cuisine\n",
    "hidden: true\n",
    "description: Discription about Jiangsu cuisine\n",
    "post-image: https://i.ibb.co/Qb1dbCN/2c22b2ae6ef4366-size30-w480-h321.jpg\n",
    "type: tangibles\n",
    "courses: { csp: {week: 0} }\n",
    "categories: [C4.1]\n",
    "tags:\n",
    "- APCSP\n",
    "- CODE CODE CODE\n",
    "---"
   ]
  },
  {
   "cell_type": "markdown",
   "metadata": {},
   "source": [
    "## 5. Jiangsu cuisine\n"
   ]
  }
 ],
 "metadata": {
  "language_info": {
   "name": "python"
  }
 },
 "nbformat": 4,
 "nbformat_minor": 2
}
