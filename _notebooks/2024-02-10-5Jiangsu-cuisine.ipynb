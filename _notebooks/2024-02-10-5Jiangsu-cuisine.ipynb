{
 "cells": [
  {
   "cell_type": "markdown",
   "metadata": {},
   "source": [
    "---\n",
    "comments: true\n",
    "layout: notebook\n",
    "title: Jiangsu cuisine\n",
    "hidden: true\n",
    "description: Discription about Jiangsu cuisine\n",
    "post-image: https://i.ibb.co/Qb1dbCN/2c22b2ae6ef4366-size30-w480-h321.jpg\n",
    "type: tangibles\n",
    "courses: { csp: {week: 0} }\n",
    "categories: [C4.1]\n",
    "tags:\n",
    "- APCSP\n",
    "- CODE CODE CODE\n",
    "---"
   ]
  },
  {
   "cell_type": "markdown",
   "metadata": {},
   "source": [
    "## 5. Jiangsu cuisine\n"
   ]
  },
  {
   "cell_type": "markdown",
   "metadata": {},
   "source": [
    "## 5. Jiangsu Cuisine\n",
    "\n",
    "Embark on a culinary odyssey through the exquisite realm of **Jiangsu Cuisine**, a realm where culinary artistry meets regional tradition.\n",
    "\n",
    "- **A Symphony of Flavors**: Delight in an array of ingredients sourced from the pristine rivers, tranquil lakes, and bountiful seas of Jiangsu.\n",
    "- **Suzhou Symphony**: Indulge in the harmonious symphony of flavors, where sweetness dances on the palate amidst a canvas of vibrant hues.\n",
    "- **Yangzhou Elegance**: Experience the epitome of refinement with Yangzhou cuisine, where delicacy meets taste, and each ingredient takes center stage with finesse in knife work and a mellowness that lingers on the tongue.\n",
    "\n",
    "### Representative Dishes\n",
    "- Squirrel-Shaped Mandarin Fish\n",
    "- Braised Pork Belly in Brown Sauce\n",
    "- Yangzhou Fried Rice\n",
    "\n",
    "### Restaurants\n",
    "\n",
    "- Terra Cotta Warrior: 2555 Judah St\n",
    "- San Wang Restaurant: 1682 Post St\n",
    "- Kung Food: 1615 McAllister St #4413\n"
   ]
  }
 ],
 "metadata": {
  "language_info": {
   "name": "python"
  }
 },
 "nbformat": 4,
 "nbformat_minor": 2
}
