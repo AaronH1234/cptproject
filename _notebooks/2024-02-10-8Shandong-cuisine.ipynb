{
 "cells": [
  {
   "cell_type": "markdown",
   "metadata": {},
   "source": [
    "---\n",
    "comments: true\n",
    "layout: notebook\n",
    "title: Shandong cuisine\n",
    "hidden: true\n",
    "description: Discription about Shandong cuisine\n",
    "post-image: https://i.ibb.co/HFrZLWs/662731ce411c4fc79e7d285623670b15.webp\n",
    "type: tangibles\n",
    "courses: { csp: {week: 0} }\n",
    "categories: [C4.1]\n",
    "tags:\n",
    "- APCSP\n",
    "- CODE CODE CODE\n",
    "---"
   ]
  },
  {
   "cell_type": "markdown",
   "metadata": {},
   "source": [
    "## 8. Shandong cuisine\n",
    "\n",
    "### Shandong cuisine is mostly found in Shandong and Beijing, China\n",
    "- Shandong cuisine originated in 770 BCE, in mountains and fertile plains. These were culturally developed to have access to seafood, salt, and grains. After, the cuisine spread its influence to northeast China, which is why we see cities like Beijing and Tianjin feature shandong cuisine.\n",
    "\n",
    "### Feature\n",
    "\n",
    "- Shandong cuisine's soups are usually light and milky. A secret ingredient used in these broths are scallions, and they go well with the fresh seafood.\n",
    "- Shandong cuisine takes pride in its light aroma, freshness, and seafood.\n",
    "- \"Do not consume food which looks spoiled, smells spoiled, is out of season, is improperly butchered, or is not made with its proper seasoning.\" -Confucius\n",
    "\n",
    "### Representative dishes\n",
    "\n",
    "- Stir Fried Yellow Croaker\n",
    "- Albalone and Scallops \n",
    "- Stir Fried Sea Cucumber\n"
   ]
  }
 ],
 "metadata": {
  "language_info": {
   "name": "python"
  }
 },
 "nbformat": 4,
 "nbformat_minor": 2
}
