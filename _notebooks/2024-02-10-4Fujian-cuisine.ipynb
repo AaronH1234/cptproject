{
 "cells": [
  {
   "cell_type": "markdown",
   "metadata": {},
   "source": [
    "---\n",
    "comments: true\n",
    "layout: notebook\n",
    "hidden: true\n",
    "title: Fujian cuisine\n",
    "description: Discription about Fujian cuisine\n",
    "post-image: https://i.ibb.co/yRT9hQP/2532318-20221019150643513210-1.jpg\n",
    "type: tangibles\n",
    "courses: { csp: {week: 0} }\n",
    "categories: [C4.1]\n",
    "tags:\n",
    "- APCSP\n",
    "- CODE CODE CODE\n",
    "---"
   ]
  },
  {
   "cell_type": "markdown",
   "metadata": {},
   "source": [
    "## 4. Fujian cuisine\n",
    "- Fujian cuisine is one of the eight major cuisines in China. It was formed through the mixture of Han culture and Minyue culture in the Central Plains.\n",
    "\n",
    "### Feature\n",
    "\n",
    "- Light and fresh\n",
    "- Pay attention to the freshness of soup\n",
    "- Rigorous knife skills\n",
    "\n",
    "### Representative dishes\n",
    "\n",
    "- Buddha's Temptation\n",
    "- Drunken Pork Ribs\n",
    "- Lychee meat\n",
    "\n",
    "### Restaurant\n",
    "\n",
    "- China Fun Authentic Noodle House: 11134 Rancho Carmel Dr #100\n",
    "- Chowking: 8955 Mira Mesa Blvd\n",
    "- Yenchim Garden Restaurant: 13297 Black Mountain Rd #6"
   ]
  }
 ],
 "metadata": {
  "language_info": {
   "name": "python"
  }
 },
 "nbformat": 4,
 "nbformat_minor": 2
}
