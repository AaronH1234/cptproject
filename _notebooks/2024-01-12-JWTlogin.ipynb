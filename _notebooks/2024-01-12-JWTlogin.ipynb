{
 "cells": [
  {
   "cell_type": "markdown",
   "metadata": {},
   "source": [
    "---\n",
    "comments: true\n",
    "layout: notebook\n",
    "title: CPT Ideation \n",
    "description: checkpoint A\n",
    "type: tangibles\n",
    "author: Ryan, Aaron, Jason\n",
    "courses: { csp: {week: 0} }\n",
    "categories: [C4.1]\n",
    "---"
   ]
  },
  {
   "cell_type": "markdown",
   "metadata": {},
   "source": [
    "## JWT Roles for User / Admin user"
   ]
  },
  {
   "cell_type": "markdown",
   "metadata": {},
   "source": [
    "### What JWT Roles\n",
    "\n",
    "- JWT (JSON Web Token) roles are used to define the permissions and access levels of a user within a system. \n",
    "- Roles help in implementing role-based access control, where different users may have different levels of access based on their roles."
   ]
  }
 ],
 "metadata": {
  "language_info": {
   "name": "python"
  }
 },
 "nbformat": 4,
 "nbformat_minor": 2
}
