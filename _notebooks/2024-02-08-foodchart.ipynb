{
 "cells": [
  {
   "cell_type": "markdown",
   "metadata": {},
   "source": [
    "---\n",
    "comments: true\n",
    "layout: notebook\n",
    "title: Food Chart\n",
    "description: checkpoint A\n",
    "type: tangibles\n",
    "author: Ryan, Aaron, Jason\n",
    "courses: { csp: {week: 0} }\n",
    "categories: [C4.1]\n",
    "tags:\n",
    "- APCSP\n",
    "- CODE CODE CODE\n",
    "---"
   ]
  },
  {
   "cell_type": "markdown",
   "metadata": {},
   "source": [
    "<html lang=\"en\">\n",
    "<head>\n",
    "<meta charset=\"UTF-8\">\n",
    "<meta name=\"viewport\" content=\"width=device-width, initial-scale=1.0\">\n",
    "<title>Image to Text on Hover</title>\n",
    "<style>\n",
    "  .container {\n",
    "    position: relative;\n",
    "    width: 300px;\n",
    "    height: 300px;\n",
    "  }\n",
    "  .image, .text {\n",
    "    position: absolute;\n",
    "    top: 0;\n",
    "    left: 0;\n",
    "    width: 100%;\n",
    "    height: 100%;\n",
    "    display: flex;\n",
    "    justify-content: center;\n",
    "    align-items: center;\n",
    "    font-size: 24px;\n",
    "    font-weight: bold;\n",
    "    color: white;\n",
    "    background-color: rgba(0, 0, 0, 0.5);\n",
    "    opacity: 0;\n",
    "    transition: opacity 0.3s ease;\n",
    "  }\n",
    "  .container:hover .text {\n",
    "    opacity: 1;\n",
    "  }\n",
    "</style>\n",
    "</head>\n",
    "<body>\n",
    "\n",
    "<div class=\"container\">\n",
    "  <img class=\"image\" src=\"https://via.placeholder.com/300\" alt=\"Image\">\n",
    "  <div class=\"text\">Hovered</div>\n",
    "</div>\n",
    "\n",
    "</body>\n",
    "</html>\n"
   ]
  }
 ],
 "metadata": {
  "language_info": {
   "name": "python"
  }
 },
 "nbformat": 4,
 "nbformat_minor": 2
}
