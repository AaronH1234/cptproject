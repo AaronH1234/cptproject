{
 "cells": [
  {
   "cell_type": "markdown",
   "metadata": {},
   "source": [
    "---\n",
    "comments: true\n",
    "layout: notebook\n",
    "title: Binary Logic CPT Warmup\n",
    "description: Testing\n",
    "type: tangibles\n",
    "courses: { csp: {week: 0} }\n",
    "categories: [C4.1]\n",
    "---"
   ]
  },
  {
   "cell_type": "markdown",
   "metadata": {},
   "source": [
    "## Plans\n",
    "\n",
    ">> complete both demonstrations of binary, add more interactives like a javascript graph/chart that when you type in a 0 or a 1, there will be some result. This could represent one of the types of logic gates, like an XOR gate.\n",
    "\n",
    ">> change X's and O's to emojies in Unicode, possibly add pop ups to describe how the emojies are understood and displayed by the computer\n",
    "\n",
    ">> Make page look nice"
   ]
  },
  {
   "cell_type": "markdown",
   "metadata": {},
   "source": [
    "## Store Binary as Text\n",
    "\n",
    "We know that binary is written with two numbers, 0 and 1, which allows computers to understand text we enter into them. However, a question arises: how will a computer understand all of this with just zeroes and ones?\n",
    "\n",
    "- 26 Capital letters\n",
    "- 26 lowercase letters\n",
    "- all special characters (e.g. @ # $ *)\n",
    "\n",
    "A language called ASCII was developed, or American Standard Code for Information Interchange, which were unique 8 digit strings of binary that represented a character. \n",
    "\n",
    "![ASCII Table](https://rpbennettit.files.wordpress.com/2012/10/standard-ascii.jpg?w=300)\n",
    "\n",
    "For example, the character \".\" is represented as a decimal \"46.\" The character \".\" can be coverted from ASCII to binary and would have a binary value of 00101110. ASCII is not really in use anymore because of its limitations concerning other languages like chinese, japanese, arabic, etc, which have their own unique characters. \n",
    "\n",
    "Nowadays, we use Unicode, which is 4 times more flexible than ASCII, as it uses a 32 bit system rather than an 8 bit system. Languages such as Latin and even Heiroglyphic can fit in Unicode. \n",
    "\n",
    "![Unicode](https://rpbennettit.files.wordpress.com/2012/10/egypian-format.jpg)"
   ]
  },
  {
   "cell_type": "markdown",
   "metadata": {},
   "source": [
    "## Boolean Algebra\n",
    "\n",
    "### AND\n",
    "\n",
    "The AND of two values will return True if both value are True, otherwise it will return False.\n",
    "\n",
    "| A | B | A AND B |\n",
    "|---|---|---------|\n",
    "| 1 | 1 |    1    |\n",
    "| 0 | 1 |    0    |\n",
    "| 1 | 0 |    0    |\n",
    "| 0 | 0 |    0    |"
   ]
  },
  {
   "cell_type": "code",
   "execution_count": null,
   "metadata": {},
   "outputs": [],
   "source": [
    "A = False\n",
    "B = False\n",
    "\n",
    "if A and B:\n",
    "    print(\"It's True\")\n",
    "else:\n",
    "    print(\"It's False\")"
   ]
  },
  {
   "cell_type": "markdown",
   "metadata": {},
   "source": [
    "### OR\n",
    "The OR of two values will return True if either one is True.\n",
    "\n",
    "| A | B | A OR B |\n",
    "|---|---|--------|\n",
    "| 1 | 1 |   1    |\n",
    "| 0 | 1 |   1    |\n",
    "| 1 | 0 |   1    |\n",
    "| 0 | 0 |   0    |"
   ]
  },
  {
   "cell_type": "code",
   "execution_count": 5,
   "metadata": {},
   "outputs": [
    {
     "name": "stdout",
     "output_type": "stream",
     "text": [
      "It's True\n"
     ]
    }
   ],
   "source": [
    "A = True\n",
    "B = False\n",
    "\n",
    "if A or B:\n",
    "    print(\"It's True\")\n",
    "else:\n",
    "    print(\"It's False\")"
   ]
  },
  {
   "cell_type": "markdown",
   "metadata": {},
   "source": [
    "### NOT\n",
    "The NOT of a value will return its opposite; If value A is true, then it will return false.\n",
    "| A | NOT A |\n",
    "|---|-------|\n",
    "| 0 |   1   |\n",
    "| 1 |   0   | "
   ]
  },
  {
   "cell_type": "code",
   "execution_count": 11,
   "metadata": {},
   "outputs": [
    {
     "name": "stdout",
     "output_type": "stream",
     "text": [
      "It's false\n"
     ]
    }
   ],
   "source": [
    "A = True\n",
    "\n",
    "if not A:\n",
    "    print(\"It's true\")\n",
    "else:\n",
    "    print(\"It's false\")"
   ]
  },
  {
   "cell_type": "markdown",
   "metadata": {},
   "source": [
    "### XOR\n",
    "The XOR of two values is true whenever the values are different. The XOR in python is this \"^\"\n",
    "| A | B | A XOR B |\n",
    "|---|---|--------|\n",
    "| 1 | 1 |   0    |\n",
    "| 0 | 1 |   1    |\n",
    "| 1 | 0 |   1    |\n",
    "| 0 | 0 |   0    |"
   ]
  },
  {
   "cell_type": "code",
   "execution_count": null,
   "metadata": {},
   "outputs": [],
   "source": [
    "A = True\n",
    "B = False\n",
    "if A ^ B:\n",
    "    print(\"It's true\")\n",
    "else:\n",
    "    print(\"It's False\")"
   ]
  },
  {
   "cell_type": "markdown",
   "metadata": {},
   "source": [
    "### NAND\n",
    "NAND is the NOT of the result of AND. More eaiser to say, if one value is False and it will return True.\n",
    "| A | B | A NAND B |\n",
    "|---|---|--------|\n",
    "| 0 | 0 |   1    |\n",
    "| 0 | 1 |   1    |\n",
    "| 1 | 0 |   1    |\n",
    "| 1 | 1 |   0    |"
   ]
  },
  {
   "cell_type": "code",
   "execution_count": 12,
   "metadata": {},
   "outputs": [
    {
     "name": "stdout",
     "output_type": "stream",
     "text": [
      "True\n"
     ]
    }
   ],
   "source": [
    "A = True\n",
    "B = False\n",
    "\n",
    "if not (A and B):\n",
    "    print(\"True\")\n",
    "else:\n",
    "    print(\"It's false\")"
   ]
  },
  {
   "cell_type": "code",
   "execution_count": 6,
   "metadata": {
    "vscode": {
     "languageId": "html"
    }
   },
   "outputs": [
    {
     "data": {
      "text/html": [
       "<!DOCTYPE html> \n",
       "<html lang=\"en\">\n",
       "<head>\n",
       "    <meta charset=\"UTF-8\">\n",
       "    <meta name=\"viewport\" content=\"width=device-width, initial-scale=1.0\">\n",
       "    <title>Tic-Tac-Toe</title>\n",
       "    <style>\n",
       "        table {\n",
       "            border-collapse: collapse;\n",
       "            margin: 20px;\n",
       "        }\n",
       "\n",
       "        td {\n",
       "            width: 50px;\n",
       "            height: 50px;\n",
       "            text-align: center;\n",
       "            border: 1px solid #000;\n",
       "            cursor: pointer;\n",
       "            font-size: 24px; /* Adjust font size as needed */\n",
       "        }\n",
       "    </style>\n",
       "</head>\n",
       "<body>\n",
       "\n",
       "<h1>Tic-Tac-Toe</h1>\n",
       "<table id=\"ticTacToeBoard\"></table>\n",
       "\n",
       "<script>\n",
       "    // JavaScript code goes here\n",
       "\n",
       "    const board = [\n",
       "        [\"\", \"\", \"\"],\n",
       "        [\"\", \"\", \"\"],\n",
       "        [\"\", \"\", \"\"]\n",
       "    ];\n",
       "\n",
       "    let currentPlayer = \"❌\";\n",
       "\n",
       "    function createBoard() {\n",
       "        const table = document.getElementById(\"ticTacToeBoard\");\n",
       "\n",
       "        for (let i = 0; i < 3; i++) {\n",
       "            const row = table.insertRow();\n",
       "            for (let j = 0; j < 3; j++) {\n",
       "                const cell = row.insertCell();\n",
       "                cell.innerHTML = \"\";\n",
       "                cell.addEventListener(\"click\", () => cellClick(i, j));\n",
       "            }\n",
       "        }\n",
       "    }\n",
       "\n",
       "    function cellClick(row, col) {\n",
       "        if (board[row][col] === \"\") {\n",
       "            board[row][col] = currentPlayer;\n",
       "            updateBoard();\n",
       "            if (checkWinner()) {\n",
       "                alert(`Player ${currentPlayer} wins!`);\n",
       "                resetBoard();\n",
       "            } else if (isBoardFull()) {\n",
       "                alert(\"It's a tie!\");\n",
       "                resetBoard();\n",
       "            } else {\n",
       "                currentPlayer = currentPlayer === \"❌\" ? \"⭕\" : \"❌\";\n",
       "            }\n",
       "        }\n",
       "    }\n",
       "\n",
       "    function updateBoard() {\n",
       "        const table = document.getElementById(\"ticTacToeBoard\");\n",
       "        for (let i = 0; i < 3; i++) {\n",
       "            for (let j = 0; j < 3; j++) {\n",
       "                table.rows[i].cells[j].innerHTML = board[i][j];\n",
       "            }\n",
       "        }\n",
       "    }\n",
       "\n",
       "    function checkWinner() {\n",
       "        // Check rows, columns, and diagonals for a winner\n",
       "        // Implement your own logic here\n",
       "        return false;\n",
       "    }\n",
       "\n",
       "    function isBoardFull() {\n",
       "        // Implement your own logic here\n",
       "        return false;\n",
       "    }\n",
       "\n",
       "    function resetBoard() {\n",
       "        // Implement board reset logic here\n",
       "        // Reset the HTML table and the internal board array\n",
       "    }\n",
       "\n",
       "    // Initialize the board when the page loads\n",
       "    createBoard();\n",
       "</script>\n",
       "\n",
       "</body>\n",
       "</html>\n"
      ],
      "text/plain": [
       "<IPython.core.display.HTML object>"
      ]
     },
     "metadata": {},
     "output_type": "display_data"
    }
   ],
   "source": [
    "%%HTML\n",
    "<!DOCTYPE html> \n",
    "<html lang=\"en\">\n",
    "<head>\n",
    "    <meta charset=\"UTF-8\">\n",
    "    <meta name=\"viewport\" content=\"width=device-width, initial-scale=1.0\">\n",
    "    <title>Tic-Tac-Toe</title>\n",
    "    <style>\n",
    "        table {\n",
    "            border-collapse: collapse;\n",
    "            margin: 20px;\n",
    "        }\n",
    "\n",
    "        td {\n",
    "            width: 50px;\n",
    "            height: 50px;\n",
    "            text-align: center;\n",
    "            border: 1px solid #000;\n",
    "            cursor: pointer;\n",
    "            font-size: 24px; /* Adjust font size as needed */\n",
    "        }\n",
    "    </style>\n",
    "</head>\n",
    "<body>\n",
    "\n",
    "<h1>Tic-Tac-Toe</h1>\n",
    "<table id=\"ticTacToeBoard\"></table>\n",
    "\n",
    "<script>\n",
    "    // JavaScript code goes here\n",
    "\n",
    "    const board = [\n",
    "        [\"\", \"\", \"\"],\n",
    "        [\"\", \"\", \"\"],\n",
    "        [\"\", \"\", \"\"]\n",
    "    ];\n",
    "\n",
    "    let currentPlayer = \"❌\";\n",
    "\n",
    "    function createBoard() {\n",
    "        const table = document.getElementById(\"ticTacToeBoard\");\n",
    "\n",
    "        for (let i = 0; i < 3; i++) {\n",
    "            const row = table.insertRow();\n",
    "            for (let j = 0; j < 3; j++) {\n",
    "                const cell = row.insertCell();\n",
    "                cell.innerHTML = \"\";\n",
    "                cell.addEventListener(\"click\", () => cellClick(i, j));\n",
    "            }\n",
    "        }\n",
    "    }\n",
    "\n",
    "    function cellClick(row, col) {\n",
    "        if (board[row][col] === \"\") {\n",
    "            board[row][col] = currentPlayer;\n",
    "            updateBoard();\n",
    "            if (checkWinner()) {\n",
    "                alert(`Player ${currentPlayer} wins!`);\n",
    "                resetBoard();\n",
    "            } else if (isBoardFull()) {\n",
    "                alert(\"It's a tie!\");\n",
    "                resetBoard();\n",
    "            } else {\n",
    "                currentPlayer = currentPlayer === \"❌\" ? \"⭕\" : \"❌\";\n",
    "            }\n",
    "        }\n",
    "    }\n",
    "\n",
    "    function updateBoard() {\n",
    "        const table = document.getElementById(\"ticTacToeBoard\");\n",
    "        for (let i = 0; i < 3; i++) {\n",
    "            for (let j = 0; j < 3; j++) {\n",
    "                table.rows[i].cells[j].innerHTML = board[i][j];\n",
    "            }\n",
    "        }\n",
    "    }\n",
    "\n",
    "    function checkWinner() {\n",
    "        // Check rows, columns, and diagonals for a winner\n",
    "        // Implement your own logic here\n",
    "        return false;\n",
    "    }\n",
    "\n",
    "    function isBoardFull() {\n",
    "        // Implement your own logic here\n",
    "        return false;\n",
    "    }\n",
    "\n",
    "    function resetBoard() {\n",
    "        // Implement board reset logic here\n",
    "        // Reset the HTML table and the internal board array\n",
    "    }\n",
    "\n",
    "    // Initialize the board when the page loads\n",
    "    createBoard();\n",
    "</script>\n",
    "\n",
    "</body>\n",
    "</html>\n"
   ]
  }
 ],
 "metadata": {
  "kernelspec": {
   "display_name": "Python 3",
   "language": "python",
   "name": "python3"
  },
  "language_info": {
   "codemirror_mode": {
    "name": "ipython",
    "version": 3
   },
   "file_extension": ".py",
   "mimetype": "text/x-python",
   "name": "python",
   "nbconvert_exporter": "python",
   "pygments_lexer": "ipython3",
   "version": "3.10.12"
  }
 },
 "nbformat": 4,
 "nbformat_minor": 2
}
