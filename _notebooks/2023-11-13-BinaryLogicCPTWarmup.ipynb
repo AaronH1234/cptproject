{
 "cells": [
  {
   "cell_type": "markdown",
   "metadata": {},
   "source": [
    "---\n",
    "comments: true\n",
    "layout: notebook\n",
    "title: Binary Logic CPT Warmup\n",
    "description: Hybrid of Teaching and Demonstrating how Unicode and Logic Gates work. \n",
    "type: tangibles\n",
    "post-image: https://i.ibb.co/T4bvKYW/6c9448a0-6201-4fab-8c05-3cb7c58f09c5.png\n",
    "courses: { csp: {week: 0} }\n",
    "categories: [C4.1]\n",
    "tags:\n",
    "- CPT WarmUp\n",
    "- APCSP\n",
    "- CODE CODE CODE\n",
    "\n",
    "---"
   ]
  },
  {
   "cell_type": "markdown",
   "metadata": {},
   "source": [
    "## Plans\n",
    "\n",
    ">> (DONE) complete both demonstrations of binary, add more interactives like a javascript graph/chart that when you type in a 0 or a 1, there will be some result. This could represent one of the types of logic gates, like an XOR gate.\n",
    "\n",
    ">> possibly add pop ups to describe how the emojies are understood and displayed by the computer\n",
    "\n",
    ">> Add functional rock paper scissors game using logic gates\n",
    "\n",
    ">> Make page look nice, change theme, use CSS and SASS to make tic tac toe and RPS look pleasing"
   ]
  },
  {
   "cell_type": "markdown",
   "metadata": {},
   "source": [
    "## Store Binary as Text\n",
    "\n",
    "We know that binary is written with two numbers, 0 and 1, which allows computers to understand text we enter into them. However, a question arises: how will a computer understand all of this with just zeroes and ones?\n",
    "\n",
    "- 26 Capital letters\n",
    "- 26 lowercase letters\n",
    "- all special characters (e.g. @ # $ *)\n",
    "\n",
    "A language called ASCII was developed, or American Standard Code for Information Interchange, which were unique 8 digit strings of binary that represented a character. \n",
    "\n",
    "![ASCII Table](https://rpbennettit.files.wordpress.com/2012/10/standard-ascii.jpg?w=300)\n",
    "\n",
    "For example, the character \".\" is represented as a decimal \"46.\" The character \".\" can be coverted from ASCII to binary and would have a binary value of 00101110. ASCII is not really in use anymore because of its limitations concerning other languages like chinese, japanese, arabic, etc, which have their own unique characters. \n",
    "\n",
    "Nowadays, we use Unicode, which is 4 times more flexible than ASCII, as it uses a 32 bit system rather than an 8 bit system. Languages such as Latin and even Heiroglyphic can fit in Unicode. \n",
    "\n",
    "![Unicode](https://rpbennettit.files.wordpress.com/2012/10/egypian-format.jpg)"
   ]
  },
  {
   "cell_type": "markdown",
   "metadata": {},
   "source": [
    "## Boolean Algebra\n",
    "\n",
    "### AND\n",
    "\n",
    "The AND of two values will return True if both value are True, otherwise it will return False.\n",
    "\n",
    "| A | B | A AND B |\n",
    "|---|---|---------|\n",
    "| 1 | 1 |    1    |\n",
    "| 0 | 1 |    0    |\n",
    "| 1 | 0 |    0    |\n",
    "| 0 | 0 |    0    |"
   ]
  },
  {
   "cell_type": "code",
   "execution_count": null,
   "metadata": {},
   "outputs": [],
   "source": [
    "A = False\n",
    "B = False\n",
    "\n",
    "if A and B:\n",
    "    print(\"It's True\")\n",
    "else:\n",
    "    print(\"It's False\")"
   ]
  },
  {
   "cell_type": "code",
   "execution_count": 9,
   "metadata": {
    "vscode": {
     "languageId": "html"
    }
   },
   "outputs": [
    {
     "data": {
      "text/html": [
       "<!DOCTYPE html>\n",
       "<html lang=\"en\">\n",
       "<head>\n",
       "    <meta charset=\"UTF-8\">\n",
       "    <meta name=\"viewport\" content=\"width=device-width, initial-scale=1.0\">\n",
       "    <title>Clickable Button</title>\n",
       "</head>\n",
       "<body>\n",
       "\n",
       "<!-- Button with a link -->\n",
       "<a href=\"https://onecompiler.com/html/3zvep33nh\" target=\"_blank\">\n",
       "    <button type=\"button\">Give an AND logic gate a try!</button>\n",
       "</a>\n",
       "\n",
       "</body>\n",
       "</html>\n"
      ],
      "text/plain": [
       "<IPython.core.display.HTML object>"
      ]
     },
     "metadata": {},
     "output_type": "display_data"
    }
   ],
   "source": [
    "%%HTML\n",
    "<!DOCTYPE html>\n",
    "<html lang=\"en\">\n",
    "<head>\n",
    "    <meta charset=\"UTF-8\">\n",
    "    <meta name=\"viewport\" content=\"width=device-width, initial-scale=1.0\">\n",
    "    <title>Clickable Button</title>\n",
    "</head>\n",
    "<body>\n",
    "\n",
    "<!-- Button with a link -->\n",
    "<a href=\"https://onecompiler.com/html/3zvep33nh\" target=\"_blank\">\n",
    "    <button type=\"button\">Give an AND logic gate a try! ya</button>\n",
    "</a>\n",
    "\n",
    "</body>\n",
    "</html>\n"
   ]
  },
  {
   "cell_type": "markdown",
   "metadata": {},
   "source": [
    "### OR\n",
    "The OR of two values will return True if either one is True.\n",
    "\n",
    "| A | B | A OR B |\n",
    "|---|---|--------|\n",
    "| 1 | 1 |   1    |\n",
    "| 0 | 1 |   1    |\n",
    "| 1 | 0 |   1    |\n",
    "| 0 | 0 |   0    |"
   ]
  },
  {
   "cell_type": "code",
   "execution_count": null,
   "metadata": {},
   "outputs": [],
   "source": [
    "A = True\n",
    "B = False\n",
    "\n",
    "if A or B:\n",
    "    print(\"It's True\")\n",
    "else:\n",
    "    print(\"It's False\")"
   ]
  },
  {
   "cell_type": "markdown",
   "metadata": {},
   "source": [
    "### NOT\n",
    "The NOT of a value will return its opposite; If value A is true, then it will return false.\n",
    "\n",
    "| A | NOT A |\n",
    "|---|-------|\n",
    "| 0 |   1   |\n",
    "| 1 |   0   | "
   ]
  },
  {
   "cell_type": "code",
   "execution_count": null,
   "metadata": {},
   "outputs": [],
   "source": [
    "A = True\n",
    "\n",
    "if not A:\n",
    "    print(\"It's true\")\n",
    "else:\n",
    "    print(\"It's false\")"
   ]
  },
  {
   "cell_type": "markdown",
   "metadata": {},
   "source": [
    "### XOR\n",
    "The XOR of two values is true whenever the values are different. The XOR in python is this \"^\"\n",
    "\n",
    "| A | B | A XOR B |\n",
    "|---|---|--------|\n",
    "| 1 | 1 |   0    |\n",
    "| 0 | 1 |   1    |\n",
    "| 1 | 0 |   1    |\n",
    "| 0 | 0 |   0    |"
   ]
  },
  {
   "cell_type": "code",
   "execution_count": null,
   "metadata": {},
   "outputs": [],
   "source": [
    "A = True\n",
    "B = False\n",
    "if A ^ B:\n",
    "    print(\"It's true\")\n",
    "else:\n",
    "    print(\"It's False\")"
   ]
  },
  {
   "cell_type": "markdown",
   "metadata": {},
   "source": [
    "### NAND\n",
    "NAND is the NOT of the result of AND. If one value is False and it will return True.\n",
    "\n",
    "| A | B | A NAND B |\n",
    "|---|---|--------|\n",
    "| 0 | 0 |   1    |\n",
    "| 0 | 1 |   1    |\n",
    "| 1 | 0 |   1    |\n",
    "| 1 | 1 |   0    |"
   ]
  },
  {
   "cell_type": "code",
   "execution_count": null,
   "metadata": {},
   "outputs": [],
   "source": [
    "A = True\n",
    "B = False\n",
    "\n",
    "if not (A and B):\n",
    "    print(\"True\")\n",
    "else:\n",
    "    print(\"It's false\")"
   ]
  },
  {
   "cell_type": "markdown",
   "metadata": {},
   "source": [
    "### DEMONSTRATIONS"
   ]
  },
  {
   "cell_type": "code",
   "execution_count": 8,
   "metadata": {
    "vscode": {
     "languageId": "html"
    }
   },
   "outputs": [
    {
     "data": {
      "text/html": [
       "<!DOCTYPE html>\n",
       "<html lang=\"en\">\n",
       "<head>\n",
       "    <meta charset=\"UTF-8\">\n",
       "    <meta name=\"viewport\" content=\"width=device-width, initial-scale=1.0\">\n",
       "    <title>Clickable Button</title>\n",
       "</head>\n",
       "<body>\n",
       "\n",
       "<!-- Button with a link -->\n",
       "<a href=\"https://onecompiler.com/html/3zvenfggp\" target=\"_blank\">\n",
       "    <button type=\"button\">tic tac toe</button>\n",
       "</a>\n",
       "\n",
       "</body>\n",
       "</html>\n"
      ],
      "text/plain": [
       "<IPython.core.display.HTML object>"
      ]
     },
     "metadata": {},
     "output_type": "display_data"
    }
   ],
   "source": [
    "%%HTML\n",
    "<!DOCTYPE html>\n",
    "<html lang=\"en\">\n",
    "<head>\n",
    "    <meta charset=\"UTF-8\">\n",
    "    <meta name=\"viewport\" content=\"width=device-width, initial-scale=1.0\">\n",
    "    <title>Clickable Button</title>\n",
    "</head>\n",
    "<body>\n",
    "\n",
    "<!-- Button with a link -->\n",
    "<a href=\"https://onecompiler.com/html/3zvenfggp\" target=\"_blank\">\n",
    "    <button type=\"button\">tic tac toe</button>\n",
    "</a>\n",
    "\n",
    "</body>\n",
    "</html>"
   ]
  },
  {
   "attachments": {
    "image.png": {
     "image/png": "[encoded data removed]"
    }
   },
   "cell_type": "markdown",
   "metadata": {},
   "source": [
    "\n",
    "## HOW ARE THE EMOJIS RENDERED ON YOUR SCREEN USING UNICODE?\n",
    "![image.png](attachment:image.png)"
   ]
  },
  {
   "cell_type": "code",
   "execution_count": 51,
   "metadata": {},
   "outputs": [
    {
     "name": "stdout",
     "output_type": "stream",
     "text": [
      "Welcome to Rock, Paper, Scissors!\n",
      "Your valid choices are:\n",
      "rock: ✊\n",
      "paper: 📜\n",
      "scissors: ✂\n",
      "Player chooses: ✊\n",
      "Computer chooses: ✊\n",
      "This round is a tie!\n",
      "\n",
      "        PLAYER_WINS:      0\n",
      "        COMPUTER_WINS:    0\n",
      "        NUM_TIE:          1\n",
      "        NUM_GAME_PLAYED:  1\n",
      "    \n",
      "Player chooses: ✊\n",
      "Computer chooses: ✂\n",
      "Player wins this round!\n",
      "\n",
      "        PLAYER_WINS:      1\n",
      "        COMPUTER_WINS:    0\n",
      "        NUM_TIE:          1\n",
      "        NUM_GAME_PLAYED:  2\n",
      "    \n",
      "Player chooses: ✂\n",
      "Computer chooses: 📜\n",
      "Player wins this round!\n",
      "\n",
      "        PLAYER_WINS:      2\n",
      "        COMPUTER_WINS:    0\n",
      "        NUM_TIE:          1\n",
      "        NUM_GAME_PLAYED:  3\n",
      "    \n",
      "ryan wins the series!\n",
      "You Win!\n"
     ]
    }
   ],
   "source": [
    "from random import choice\n",
    "\n",
    "def display_choices(player_choice, computer_choice):\n",
    "    print(f\"Player chooses: {valid_choices[player_choice]}\")\n",
    "    print(f\"Computer chooses: {valid_choices[computer_choice]}\")\n",
    "\n",
    "\n",
    "def display_game_winner(player_wins, computer_wins):\n",
    "    if player_wins > computer_wins:\n",
    "        print(f\"{player_name} wins the series!\")\n",
    "        print(\"You Win!\")\n",
    "    elif computer_wins > player_wins:\n",
    "        print(\"Computer wins the series!\")\n",
    "        print(\"Computer Win!\")\n",
    "    else:\n",
    "        print(\"The series tied!\")\n",
    "\n",
    "\n",
    "def find_round_winner(player_choice, computer_choice):\n",
    "    if player_choice not in valid_choices:\n",
    "        return \"Try again\"\n",
    "    elif (\n",
    "        player_choice == \"rock\"\n",
    "        and computer_choice == \"scissors\"\n",
    "        or player_choice == \"paper\"\n",
    "        and computer_choice == \"rock\"\n",
    "        or player_choice == \"scissors\"\n",
    "        and computer_choice == \"paper\"\n",
    "    ):\n",
    "        return \"Player\"\n",
    "    elif player_choice == computer_choice:\n",
    "        return \"Tie\"\n",
    "    else:\n",
    "        return \"Computer\"\n",
    "    \n",
    "def display_scoreboard(player_wins, computer_wins, num_games_played):\n",
    "    num_tie = num_games_played - (player_wins + computer_wins)\n",
    "    scoreboard = f\"\"\"\n",
    "        PLAYER_WINS:      {player_wins}\n",
    "        COMPUTER_WINS:    {computer_wins}\n",
    "        NUM_TIE:          {num_tie}\n",
    "        NUM_GAME_PLAYED:  {num_games_played}\n",
    "    \"\"\"\n",
    "\n",
    "    print(scoreboard)\n",
    "\n",
    "num_games_played = 0\n",
    "player_wins = 0\n",
    "computer_wins = 0\n",
    "valid_choices = {\"rock\": \"✊\", \n",
    "                 \"paper\": \"📜\", \n",
    "                 \"scissors\": \"✂\"\n",
    "                }\n",
    "\n",
    "print(\"Welcome to Rock, Paper, Scissors!\")\n",
    "player_name = input(\"What is your name? \")\n",
    "print(\"Your valid choices are:\")\n",
    "\n",
    "for valid_choice, emoji in valid_choices.items():\n",
    "    print(f\"{valid_choice}: {emoji}\")\n",
    "\n",
    "\n",
    "while True:\n",
    "    player_choice = input(f\"Choose rock, paper, or scissors {player_name}: \")\n",
    "    computer_choice = choice(list(valid_choices))\n",
    "    display_choices(player_choice, computer_choice)\n",
    "\n",
    "    round_winner = find_round_winner(player_choice, computer_choice)\n",
    "\n",
    "    if round_winner == \"Player\":\n",
    "        print(\"Player wins this round!\")\n",
    "        player_wins += 1\n",
    "    elif round_winner == \"Computer\":\n",
    "        print(\"Computer wins this round!\")\n",
    "        computer_wins += 1\n",
    "    elif round_winner == \"Try again\":\n",
    "        print(\"That was an invalid choice! Try again!\")\n",
    "        continue\n",
    "    else:\n",
    "        print(\"This round is a tie!\")\n",
    "\n",
    "    num_games_played += 1\n",
    "    display_scoreboard(player_wins, computer_wins, num_games_played)\n",
    "    keep_playing = input(\"Keep playing (y/n)? \")\n",
    "\n",
    "    if keep_playing != \"y\":\n",
    "        break\n",
    "\n",
    "\n",
    "display_game_winner(player_wins, computer_wins)"
   ]
  }
 ],
 "metadata": {
  "kernelspec": {
   "display_name": "Python 3",
   "language": "python",
   "name": "python3"
  },
  "language_info": {
   "codemirror_mode": {
    "name": "ipython",
    "version": 3
   },
   "file_extension": ".py",
   "mimetype": "text/x-python",
   "name": "python",
   "nbconvert_exporter": "python",
   "pygments_lexer": "ipython3",
   "version": "3.10.12"
  }
 },
 "nbformat": 4,
 "nbformat_minor": 2
}
