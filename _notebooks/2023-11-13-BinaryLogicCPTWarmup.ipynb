{
 "cells": [
  {
   "cell_type": "markdown",
   "metadata": {},
   "source": [
    "---\n",
    "comments: true\n",
    "layout: notebook\n",
    "title: Binary Logic CPT Warmup\n",
    "description: Testing\n",
    "type: tangibles\n",
    "courses: { csp: {week: 0} }\n",
    "categories: [C4.1]\n",
    "---"
   ]
  },
  {
   "cell_type": "markdown",
   "metadata": {},
   "source": [
    "## Store Binary as Text\n",
    "\n",
    "We know that binary is written with two numbers, 0 and 1, which allows computers to understand text we enter into them. However, a question arises: how will a computer understand all of this with just zeroes and ones?\n",
    "\n",
    "- 26 Capital letters\n",
    "- 26 lowercase letters\n",
    "- all special characters (e.g. @ # $ *)\n",
    "\n",
    "A language called ASCII was developed, or American Standard Code for Information Interchange, which were unique 8 digit strings of binary that represented a character. \n",
    "\n",
    "![ASCII Table](https://rpbennettit.files.wordpress.com/2012/10/standard-ascii.jpg?w=300)\n",
    "\n",
    "For example, the character \".\" is represented as a decimal \"46.\" The character \".\" can be coverted from ASCII to binary and would have a binary value of 00101110. ASCII is not really in use anymore because of its limitations concerning other languages like chinese, japanese, arabic, etc, which have their own unique characters. \n",
    "\n",
    "Nowadays, we use Unicode, which is 4 times more flexible than ASCII, as it uses a 32 bit system rather than an 8 bit system. Languages such as Latin and even Heiroglyphic can fit in Unicode. \n",
    "\n",
    "![Unicode](https://rpbennettit.files.wordpress.com/2012/10/egypian-format.jpg)"
   ]
  },
  {
   "cell_type": "markdown",
   "metadata": {},
   "source": []
  }
 ],
 "metadata": {
  "language_info": {
   "name": "python"
  }
 },
 "nbformat": 4,
 "nbformat_minor": 2
}
