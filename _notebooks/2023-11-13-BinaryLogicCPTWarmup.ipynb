{
 "cells": [
  {
   "cell_type": "markdown",
   "metadata": {},
   "source": [
    "---\n",
    "comments: true\n",
    "layout: notebook\n",
    "title: Binary Logic CPT Warmup\n",
    "description: Testing\n",
    "type: tangibles\n",
    "courses: { csp: {week: 0} }\n",
    "categories: [C4.1]\n",
    "---"
   ]
  },
  {
   "cell_type": "markdown",
   "metadata": {},
   "source": [
    "## Store Binary as Text\n",
    "\n",
    "We know that binary is written with two numbers, 0 and 1, which allows computers to understand text we enter into them. However, a question arises: how will a computer understand all of this with just zeroes and ones?\n",
    "\n",
    "- 26 Capital letters\n",
    "- 26 lowercase letters\n",
    "- all special characters (e.g. @ # $ *)\n",
    "\n",
    "We developed ASCII, or American Standard Code for Information Interchange, which were unique 8 digit strings of binary that represented a character. \n",
    "\n",
    "[ASCII Table](https://rpbennettit.files.wordpress.com/2012/10/standard-ascii.jpg?w=300)\n",
    "\n",
    "In the table above, "
   ]
  },
  {
   "cell_type": "markdown",
   "metadata": {},
   "source": []
  }
 ],
 "metadata": {
  "language_info": {
   "name": "python"
  }
 },
 "nbformat": 4,
 "nbformat_minor": 2
}
