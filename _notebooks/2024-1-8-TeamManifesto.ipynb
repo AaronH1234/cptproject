{
 "cells": [
  {
   "cell_type": "markdown",
   "metadata": {},
   "source": [
    "---\n",
    "comments: true\n",
    "layout: notebook\n",
    "title: Team Manifesto\n",
    "description: col\n",
    "type: tangibles\n",
    "author: Ryan, Aaron, Jason\n",
    "post-image: \n",
    "courses: { csp: {week: 0} }\n",
    "categories: [C4.1]\n",
    "tags:\n",
    "- APCSP\n",
    "- CODE CODE CODE\n",
    "\n",
    "---"
   ]
  },
  {
   "cell_type": "markdown",
   "metadata": {},
   "source": [
    "# OUR TEAM MANIFESTO\n",
    "\n",
    "## At Wakao Corporation, we strive to learn and teach code in an easily understandable way, and to express our mutual passions through code and web design. We also plan to promote positive work habits such as developing a growth mindset, staying on track, and channeling passions into productivity. This trimester, we have ideas of making a program that tracks the stock market by identifynig stocks and companies that are on upwards and downwards trends. "
   ]
  }
 ],
 "metadata": {
  "language_info": {
   "name": "python"
  }
 },
 "nbformat": 4,
 "nbformat_minor": 2
}
