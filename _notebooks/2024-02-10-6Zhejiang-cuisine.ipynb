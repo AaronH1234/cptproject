{
 "cells": [
  {
   "cell_type": "markdown",
   "metadata": {},
   "source": [
    "---\n",
    "comments: true\n",
    "layout: notebook\n",
    "title: Zhejiang cuisine\n",
    "hidden: true\n",
    "description: Discription about Zhejiang cuisine\n",
    "post-image: https://i.ibb.co/cLvYRD1/20220326084323911.jpg\n",
    "type: tangibles\n",
    "courses: { csp: {week: 0} }\n",
    "categories: [C4.1]\n",
    "tags:\n",
    "- APCSP\n",
    "- CODE CODE CODE\n",
    "---"
   ]
  },
  {
   "cell_type": "markdown",
   "metadata": {},
   "source": [
    "## 6. Zhejiang cuisine\n",
    "\n",
    "- Zhejiang cuisine originated in Zhejiang, China and is one of the eight major cuisines in China. It consists of Hangbang cuisine, Ningbo cuisine, Shaoxing cuisine and Ou cuisine.\n",
    "\n",
    "### Feature\n",
    "\n",
    "- Small and exquisite dishes\n",
    "- Pay attention to the original taste\n",
    "- Crisp, soft and refreshing\n",
    "\n",
    "### Representative dishes\n",
    "\n",
    "- Longjing Shrimp\n",
    "- Dongpo Pork\n",
    "- Raw eel slices\n",
    "\n",
    "### Restaurant\n",
    "\n",
    "- Kung Fu Noodle: 1233 E Vista Way, Vista, CA 92084\n",
    "- Chef Zhu: 7845 Highlands Village Pl c101, San Diego, CA 92129\n",
    "- Yenchim Garden Restaurant: 13297 Black Mountain Rd #6, San Diego, CA 92129"
   ]
  }
 ],
 "metadata": {
  "language_info": {
   "name": "python"
  }
 },
 "nbformat": 4,
 "nbformat_minor": 2
}
