{
 "cells": [
  {
   "cell_type": "markdown",
   "metadata": {},
   "source": [
    "---\n",
    "comments: true\n",
    "layout: notebook\n",
    "hidden: true\n",
    "title: Hunan-cuisine\n",
    "description: Discription about Hunan-cuisine\n",
    "post-image: https://i.ibb.co/rstQB3P/XWQ4-1.jpg\n",
    "type: tangibles\n",
    "courses: { csp: {week: 0} }\n",
    "categories: [C4.1]\n",
    "tags:\n",
    "- APCSP\n",
    "- CODE CODE CODE\n",
    "---"
   ]
  },
  {
   "cell_type": "markdown",
   "metadata": {},
   "source": [
    "## 2. Hunan-cuisine\n",
    "- It is famous for its rich and appropriate spiciness, rigorous production, and highlighting the original flavor of the dishes.\n",
    "\n",
    "- Feature\n",
    "\n",
    "    - Finely crafted\n",
    "    - Wide range of ingredients\n",
    "    - Strong sour and spicy taste\n",
    "\n",
    "- Representative dishes\n",
    "\n",
    "    - Fish head with chopped pepper\n",
    "    - Mao's Braised Pork\n",
    "    - Dong'an Chicken\n",
    "\n",
    "- Restaurant\n",
    "\n",
    "    - Taste of Hunan: 9880 Hibert St\n",
    "    - Village Kitchen: 4720 Clairemont Mesa Blvd\n",
    "    - Hunan Chinese Restaurant: 16719 Bernardo Center Dr"
   ]
  }
 ],
 "metadata": {
  "kernelspec": {
   "display_name": "Python 3",
   "language": "python",
   "name": "python3"
  },
  "language_info": {
   "name": "python",
   "version": "3.10.12"
  }
 },
 "nbformat": 4,
 "nbformat_minor": 2
}
