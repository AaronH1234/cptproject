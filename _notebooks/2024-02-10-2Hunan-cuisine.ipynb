{
 "cells": [
  {
   "cell_type": "markdown",
   "metadata": {},
   "source": [
    "---\n",
    "comments: true\n",
    "layout: notebook\n",
    "hidden: true\n",
    "title: Hunan-cuisine\n",
    "description: Discription about Hunan-cuisine\n",
    "post-image: https://i.ibb.co/rstQB3P/XWQ4-1.jpg\n",
    "type: tangibles\n",
    "courses: { csp: {week: 0} }\n",
    "categories: [C4.1]\n",
    "tags:\n",
    "- APCSP\n",
    "- CODE CODE CODE\n",
    "---"
   ]
  },
  {
   "cell_type": "markdown",
   "metadata": {},
   "source": [
    "## 2. Hunan-cuisine\n"
   ]
  }
 ],
 "metadata": {
  "kernelspec": {
   "display_name": "Python 3",
   "language": "python",
   "name": "python3"
  },
  "language_info": {
   "name": "python",
   "version": "3.10.12"
  }
 },
 "nbformat": 4,
 "nbformat_minor": 2
}
