{
 "cells": [
  {
   "cell_type": "markdown",
   "metadata": {},
   "source": [
    "---\n",
    "comments: true\n",
    "layout: notebook\n",
    "title: Team Final review ticket\n",
    "hidden: true\n",
    "type: tangibles\n",
    "courses: { csp: {week: 0} }\n",
    "categories: [C4.1]\n",
    "tags:\n",
    "- APCSP\n",
    "- CODE CODE CODE\n",
    "---"
   ]
  },
  {
   "cell_type": "markdown",
   "metadata": {},
   "source": [
    "# Tri 2 Final Review Ticket\n",
    "\n",
    "## CPT - Project Plannings\n",
    "\n",
    "<a href = \"http://localhost:4100/cptproject/c4.1/2024/01/12/CPTProjectIdeation_IPYNB_2_.html\">CPT Project Ideations</a>\n",
    "<br>\n",
    "\n",
    "\n",
    "## Key Features\n",
    "- Our purpose of this project is to help the people who trying to find authentic Chinese food. In our website, we will have a chinese food informational website that is based in San Diego and nearby.\n",
    "    - Allow users to post comments for each Chinese Restaurants.\n",
    "        - Ratings from 1 - 10.\n",
    "    - Allow users to learn more about the Chinese 8 cuisines on the website.\n",
    "\n",
    "\n",
    "### Food Chart\n",
    "\n",
    "- For this food chart, you will need to click the + button in the middle, then 8 buttons will come out arround the button at the middle. Each button represent a chinese cuisine, you can click on any button and it will bring you to a different cuisine. In the cuisine, we talk about the feature of the cuisine and some represent foods and some restaurants that is in the San Diego.\n",
    "\n",
    "### Restaurants Catalogue \n",
    "\n",
    "- When the user logs in, the user can leave personal comments on this page to keep track of what restaurants they like, and which one's they don't like based off a rating scale of 1-10. Localstorage acts as a pseudo backend, as it's unique to the device. This prevents other users from seeing what restaurants you rated. "
   ]
  }
 ],
 "metadata": {
  "language_info": {
   "name": "python"
  }
 },
 "nbformat": 4,
 "nbformat_minor": 2
}
