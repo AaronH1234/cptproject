{
 "cells": [
  {
   "cell_type": "markdown",
   "metadata": {},
   "source": [
    "---\n",
    "comments: true\n",
    "layout: notebook\n",
    "title: Team Final review ticket\n",
    "hidden: true\n",
    "type: tangibles\n",
    "courses: { csp: {week: 0} }\n",
    "categories: [C4.1]\n",
    "tags:\n",
    "- APCSP\n",
    "- CODE CODE CODE\n",
    "---"
   ]
  },
  {
   "cell_type": "markdown",
   "metadata": {},
   "source": [
    "# Tri 2 Final Review Ticket\n",
    "\n",
    "## CPT - Project Plannings\n",
    "\n",
    "<a href = \"http://localhost:4100/cptproject/c4.1/2024/01/12/CPTProjectIdeation_IPYNB_2_.html\">CPT Project Ideations</a>\n",
    "<br>\n",
    "\n",
    "\n",
    "## Key Features\n",
    "- Our purpose of this project is to help the people who trying to find authentic Chinese food. In our website, we will have a chinese food informational website that is based in San Diego and nearby.\n",
    "    - Allow users to search up any Chinese Restaurants nearby and in San Diego.\n",
    "    - Allow users to post comments for each Chinese Restaurants.\n",
    "        - Ratings from 1 - 10.\n",
    "    - Allow users to learn more about the Chinese 8 cuisines on the website.\n",
    "\n",
    "\n",
    "### Food Chart\n",
    "\n",
    "<img src = \"?\">"
   ]
  }
 ],
 "metadata": {
  "language_info": {
   "name": "python"
  }
 },
 "nbformat": 4,
 "nbformat_minor": 2
}
