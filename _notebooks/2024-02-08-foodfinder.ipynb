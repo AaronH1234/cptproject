{
 "cells": [
  {
   "cell_type": "markdown",
   "metadata": {},
   "source": [
    "---\n",
    "comments: true\n",
    "layout: notebook\n",
    "title: Food Finder\n",
    "description: checkpoint A\n",
    "post-image: https://i.ibb.co/swbZ54r/Food-Finder-Cover-FINAL.png\n",
    "type: tangibles\n",
    "author: Ryan, Aaron, Jason\n",
    "courses: { csp: {week: 0} }\n",
    "categories: [C4.1]\n",
    "tags:\n",
    "- APCSP\n",
    "- CODE CODE CODE\n",
    "---"
   ]
  },
  {
   "cell_type": "markdown",
   "metadata": {},
   "source": [
    "<html lang=\"en\">\n",
    "<head>\n",
    "    <style>\n",
    "        {\n",
    "            margin: 0;\n",
    "            padding: 0;\n",
    "        }\n",
    "        body{\n",
    "            height: 100vh;\n",
    "            display: flex;\n",
    "            justify-content: center;\n",
    "            align-items: center;\n",
    "            background: #1daf;\n",
    "        }\n",
    "        .box{\n",
    "            height: 30px;\n",
    "            display: flex;\n",
    "            cursor: pointer;\n",
    "            padding: 10px 20px;\n",
    "            background: #fff;\n",
    "            border-radius: 30px;\n",
    "            align-items: center;\n",
    "            box-shadow: 0 10px 25px rgba(0, 0, 0, 0.3);\n",
    "        }\n",
    "        .box:hover input{\n",
    "            width: 400px;\n",
    "        }\n",
    "        .box input{\n",
    "            width: 0;\n",
    "            outline: none;\n",
    "            border: none;\n",
    "            font-weight: 500;\n",
    "            transition: 0.8s;\n",
    "            background: transparent;\n",
    "        }\n",
    "        .box a .fas{\n",
    "            color: #1daf;\n",
    "            font-size: 18px;\n",
    "        }\n",
    "    </style>\n",
    "</head>\n",
    "<body>\n",
    "    <div class=\"box\">\n",
    "    <input type=\"text\" placeholder=\"Search...\">\n",
    "    <a href=\"#\"></a>\n",
    "        <i class=\"fas fa-search\"></i>\n",
    "    </div>\n",
    "</body>\n",
    "</html>"
   ]
  }
 ],
 "metadata": {
  "language_info": {
   "name": "python"
  }
 },
 "nbformat": 4,
 "nbformat_minor": 2
}
