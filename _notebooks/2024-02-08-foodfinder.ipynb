{
 "cells": [
  {
   "cell_type": "markdown",
   "metadata": {},
   "source": [
    "---\n",
    "comments: true\n",
    "layout: notebook\n",
    "title: Food Finder\n",
    "description: checkpoint A\n",
    "post-image: https://i.ibb.co/swbZ54r/Food-Finder-Cover-FINAL.png\n",
    "type: tangibles\n",
    "author: Ryan, Aaron, Jason\n",
    "courses: { csp: {week: 0} }\n",
    "categories: [C4.1]\n",
    "tags:\n",
    "- APCSP\n",
    "- CODE CODE CODE\n",
    "---"
   ]
  },
  {
   "cell_type": "markdown",
   "metadata": {},
   "source": []
  }
 ],
 "metadata": {
  "language_info": {
   "name": "python"
  }
 },
 "nbformat": 4,
 "nbformat_minor": 2
}
