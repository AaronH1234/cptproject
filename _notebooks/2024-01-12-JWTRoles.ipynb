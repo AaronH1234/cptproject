{
 "cells": [
  {
   "cell_type": "markdown",
   "metadata": {},
   "source": [
    "---\n",
    "comments: true\n",
    "layout: notebook\n",
    "title: Student teaching - JWT Roles for User / Admin user\n",
    "description: checkpoint A\n",
    "type: tangibles\n",
    "author: Ryan, Aaron, Jason\n",
    "courses: { csp: {week: 0} }\n",
    "categories: [C4.1]\n",
    "---"
   ]
  },
  {
   "cell_type": "markdown",
   "metadata": {},
   "source": [
    "# JWT Roles for User / Admin user"
   ]
  },
  {
   "cell_type": "markdown",
   "metadata": {},
   "source": [
    "## What JWT Roles do\n",
    "\n",
    "- JWT (JSON Web Token) roles are used to define the permissions and access levels of a user within a system. \n",
    "- Roles help in implementing role-based access control, where different users may have different levels of access based on their roles."
   ]
  },
  {
   "cell_type": "markdown",
   "metadata": {},
   "source": [
    "## User Roles\n",
    "### What is it?\n",
    "\n",
    "- The \"User\" role is assigned to regular individuals who have registered or signed up for an account in the application or system.\n",
    "- Permission: \n",
    "    - Access to basic features and functionalities of the application.\n",
    "    - The ability to create, update, and delete their own content\n",
    "    - Limited or no access to sensitive/administrative functionalities."
   ]
  },
  {
   "cell_type": "markdown",
   "metadata": {},
   "source": [
    "\n",
    "![image.png](https://i.ibb.co/NW2KnVB/Screenshot-2024-01-24-10-17-03.png)"
   ]
  },
  {
   "cell_type": "markdown",
   "metadata": {},
   "source": [
    "### Add a _role column to DB\n",
    "\n",
    "Add role to User table with a default value of \"User\". The role attribute is set during the initialization of the User object. The is_admin method checks if the user has the role of an admin. \n",
    "\n",
    "What this will do is differentiate between if a user that logs in will be granted regular user permissions, or will have admin permissions. \n",
    "\n",
    "this will be put in model/users.py"
   ]
  },
  {
   "cell_type": "code",
   "execution_count": null,
   "metadata": {},
   "outputs": [],
   "source": [
    "class User(db.Model):\n",
    "    # ... (existing code)\n",
    "\n",
    "    _role = db.Column(db.String(20), default=\"User\", nullable=False)\n",
    "\n",
    "    def __init__(self, name, uid, password=\"123qwerty\", dob=date.today(), role=\"User\"):\n",
    "        # ... (existing code)\n",
    "        self._role = role\n",
    "\n",
    "    @property\n",
    "    def role(self):\n",
    "        return self._role\n",
    "\n",
    "    @role.setter\n",
    "    def role(self, role):\n",
    "        self._role = role\n",
    "\n",
    "    def is_admin(self):\n",
    "        return self._role == \"Admin\"\n",
    "    \n",
    "    # ... (existing code)\n",
    "\n",
    "    # CRUD read converts self to dictionary\n",
    "    # returns dictionary\n",
    "    def read(self):\n",
    "        return {\n",
    "            \"id\": self.id,\n",
    "            \"name\": self.name,\n",
    "            \"uid\": self.uid,\n",
    "            \"dob\": self.dob,\n",
    "            \"age\": self.age,\n",
    "            \"role\": self.role,\n",
    "            \"posts\": [post.read() for post in self.posts]\n",
    "        }"
   ]
  },
  {
   "cell_type": "markdown",
   "metadata": {},
   "source": [
    "### Make one of the users have an admin role\n",
    "\n"
   ]
  },
  {
   "cell_type": "code",
   "execution_count": null,
   "metadata": {},
   "outputs": [],
   "source": [
    "def initUsers():\n",
    "    with app.app_context():\n",
    "        \"\"\"Create database and tables\"\"\"\n",
    "        db.create_all()\n",
    "        \"\"\"Tester data for table\"\"\"\n",
    "        u1 = User(name='Thomas Edison', uid='toby', password='123toby', dob=date(1847, 2, 11), role=\"Admin\")a\n",
    "\n",
    "# ... (existing code)"
   ]
  },
  {
   "cell_type": "markdown",
   "metadata": {},
   "source": [
    "### Change token payload to include role\n",
    "\n",
    "this will go in api/users.py .... (just mentioning this because I didn't remember there was a difference between api/users.py and model/users.py .)"
   ]
  },
  {
   "cell_type": "code",
   "execution_count": null,
   "metadata": {},
   "outputs": [],
   "source": [
    "    class _Security(Resource):\n",
    "        def post(self):\n",
    "            try:\n",
    "                body = request.get_json()\n",
    "                if not body:\n",
    "                    return {\n",
    "                        \"message\": \"Please provide user details\",\n",
    "                        \"data\": None,\n",
    "                        \"error\": \"Bad request\"\n",
    "                    }, 400\n",
    "                ''' Get Data '''\n",
    "                uid = body.get('uid')\n",
    "                if uid is None:\n",
    "                    return {'message': f'User ID is missing'}, 400\n",
    "                password = body.get('password')\n",
    "                \n",
    "                ''' Find user '''\n",
    "                user = User.query.filter_by(_uid=uid).first()\n",
    "                if user is None or not user.is_password(password):\n",
    "                    return {'message': f\"Invalid user id or password\"}, 400\n",
    "                if user:\n",
    "                    try:\n",
    "                        token_payload = {\n",
    "                            \"_uid\": user._uid,\n",
    "                            \"role\": user.role  # Add the role information to the token\n",
    "                        }\n",
    "\n",
    "                        token = jwt.encode(\n",
    "                            token_payload,\n",
    "                            current_app.config[\"SECRET_KEY\"],\n",
    "                            algorithm=\"HS256\"\n",
    "                        )\n",
    "# ... (existing code)"
   ]
  }
 ],
 "metadata": {
  "language_info": {
   "name": "python"
  }
 },
 "nbformat": 4,
 "nbformat_minor": 2
}
