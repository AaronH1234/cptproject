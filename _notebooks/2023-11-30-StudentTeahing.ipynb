{
 "cells": [
  {
   "cell_type": "markdown",
   "metadata": {},
   "source": [
    "---\n",
    "comments: true\n",
    "layout: notebook\n",
    "title: Team Teaching - Fault Tolerance & Parallel and Distributed Computing\n",
    "description: College Board 4.2 & 4.3 - Fault Tolerance & Parallel and Distributed Computing\n",
    "type: tangibles\n",
    "courses: { csp: {week: 13} }\n",
    "categories: [C4.1]\n",
    "---"
   ]
  },
  {
   "cell_type": "markdown",
   "metadata": {},
   "source": [
    "## **Fault Tolerance**\n",
    "\n",
    "### Essential Knowledges\n",
    ">\n",
    "- The Internet has been engineered to be fault-tolerant, with abstractions for routing and transmitting data.  \n",
    "\n",
    "- Redundancy is the inclusion of extra components that can be used to mitigate failure of a system if other components fail.  \n",
    "\n",
    "- One way to accomplish network redunadancy is by having more than one path between any to connected devices.\n",
    "\n",
    "- If a particular device or connection on the Internet fails, subsequent data will be sent via a different route if it's possible to reach that.\n",
    "\n",
    "- Redundancy within a system often requires additional resources but can provide the benefit of fault tolerance.\n",
    "\n",
    "- The redundancy of routing options between 2 points increases the reliability of the Internet and helps it scale to the more devices and more people.\n"
   ]
  },
  {
   "cell_type": "markdown",
   "metadata": {},
   "source": [
    "### Examples:...\n",
    "![Example1](C:\\Users\\ryanl\\Downloads\\chain.png)\n",
    "- This above **is a fault tolerance** since you are able even if one path goes down, you could still communicate with all the otheer devices on the network."
   ]
  },
  {
   "cell_type": "markdown",
   "metadata": {},
   "source": [
    "### Benefit of a Fault Tolerant?\n",
    "- Data has more than one path to travel from one device to another.\n",
    "- If part of the network fails, the network can still function by using other paths.\n",
    "- More decives creates more connections and makes the network stronger.\n"
   ]
  }
 ],
 "metadata": {
  "kernelspec": {
   "display_name": "Python 3",
   "language": "python",
   "name": "python3"
  },
  "language_info": {
   "name": "python",
   "version": "3.10.12"
  },
  "orig_nbformat": 4
 },
 "nbformat": 4,
 "nbformat_minor": 2
}
